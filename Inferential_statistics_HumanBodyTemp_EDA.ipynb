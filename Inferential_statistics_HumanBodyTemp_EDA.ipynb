{
 "cells": [
  {
   "cell_type": "markdown",
   "metadata": {},
   "source": [
    "# What is the True Normal Human Body Temperature? \n",
    "\n",
    "#### Background\n",
    "\n",
    "The mean normal body temperature was held to be 37$^{\\circ}$C or 98.6$^{\\circ}$F for more than 120 years since it was first conceptualized and reported by Carl Wunderlich in a famous 1868 book. But, is this value statistically correct?"
   ]
  },
  {
   "cell_type": "markdown",
   "metadata": {},
   "source": [
    "<div class=\"span5 alert alert-info\">\n",
    "<h3>Exercises</h3>\n",
    "\n",
    "<p>In this exercise, you will analyze a dataset of human body temperatures and employ the concepts of hypothesis testing, confidence intervals, and statistical significance.</p>\n",
    "\n",
    "<p>Answer the following questions <b>in this notebook below and submit to your Github account</b>.</p> \n",
    "\n",
    "<ol>\n",
    "<li>  Is the distribution of body temperatures normal? \n",
    "    <ul>\n",
    "    <li> Although this is not a requirement for CLT to hold (read CLT carefully), it gives us some peace of mind that the population may also be normally distributed if we assume that this sample is representative of the population.\n",
    "    </ul>\n",
    "<li>  Is the sample size large? Are the observations independent?\n",
    "    <ul>\n",
    "    <li> Remember that this is a condition for the CLT, and hence the statistical tests we are using, to apply.\n",
    "    </ul>\n",
    "<li>  Is the true population mean really 98.6 degrees F?\n",
    "    <ul>\n",
    "    <li> Would you use a one-sample or two-sample test? Why?\n",
    "    <li> In this situation, is it appropriate to use the $t$ or $z$ statistic? \n",
    "    <li> Now try using the other test. How is the result be different? Why?\n",
    "    </ul>\n",
    "<li>  At what temperature should we consider someone's temperature to be \"abnormal\"?\n",
    "    <ul>\n",
    "    <li> Start by computing the margin of error and confidence interval.\n",
    "    </ul>\n",
    "<li>  Is there a significant difference between males and females in normal temperature?\n",
    "    <ul>\n",
    "    <li> What test did you use and why?\n",
    "    <li> Write a story with your conclusion in the context of the original problem.\n",
    "    </ul>\n",
    "</ol>\n",
    "\n",
    "You can include written notes in notebook cells using Markdown: \n",
    "   - In the control panel at the top, choose Cell > Cell Type > Markdown\n",
    "   - Markdown syntax: http://nestacms.com/docs/creating-content/markdown-cheat-sheet\n",
    "\n",
    "#### Resources\n",
    "\n",
    "+ Information and data sources: http://www.amstat.org/publications/jse/datasets/normtemp.txt, http://www.amstat.org/publications/jse/jse_data_archive.htm\n",
    "+ Markdown syntax: http://nestacms.com/docs/creating-content/markdown-cheat-sheet\n",
    "\n",
    "****\n",
    "</div>"
   ]
  },
  {
   "cell_type": "code",
   "execution_count": 1,
   "metadata": {
    "collapsed": false
   },
   "outputs": [],
   "source": [
    "import pandas as pd\n",
    "import matplotlib.pyplot as plt\n",
    "import numpy as np\n",
    "import scipy.stats as stats\n",
    "import scipy\n",
    "import statistics\n",
    "import collections\n",
    "import math\n",
    "import random\n",
    "\n",
    "#import seaborn as sns\n",
    "df = pd.read_csv('data/human_body_temperature.csv')"
   ]
  },
  {
   "cell_type": "code",
   "execution_count": 2,
   "metadata": {
    "collapsed": false
   },
   "outputs": [
    {
     "data": {
      "text/plain": [
       "0    99.3\n",
       "1    98.4\n",
       "2    97.8\n",
       "3    99.2\n",
       "4    98.0\n",
       "Name: temperature, dtype: float64"
      ]
     },
     "execution_count": 2,
     "metadata": {},
     "output_type": "execute_result"
    }
   ],
   "source": [
    "df['temperature'].head()"
   ]
  },
  {
   "cell_type": "code",
   "execution_count": 3,
   "metadata": {
    "collapsed": false
   },
   "outputs": [
    {
     "data": {
      "text/html": [
       "<div>\n",
       "<table border=\"1\" class=\"dataframe\">\n",
       "  <thead>\n",
       "    <tr style=\"text-align: right;\">\n",
       "      <th></th>\n",
       "      <th>temperature</th>\n",
       "      <th>heart_rate</th>\n",
       "    </tr>\n",
       "  </thead>\n",
       "  <tbody>\n",
       "    <tr>\n",
       "      <th>count</th>\n",
       "      <td>130.000000</td>\n",
       "      <td>130.000000</td>\n",
       "    </tr>\n",
       "    <tr>\n",
       "      <th>mean</th>\n",
       "      <td>98.249231</td>\n",
       "      <td>73.761538</td>\n",
       "    </tr>\n",
       "    <tr>\n",
       "      <th>std</th>\n",
       "      <td>0.733183</td>\n",
       "      <td>7.062077</td>\n",
       "    </tr>\n",
       "    <tr>\n",
       "      <th>min</th>\n",
       "      <td>96.300000</td>\n",
       "      <td>57.000000</td>\n",
       "    </tr>\n",
       "    <tr>\n",
       "      <th>25%</th>\n",
       "      <td>97.800000</td>\n",
       "      <td>69.000000</td>\n",
       "    </tr>\n",
       "    <tr>\n",
       "      <th>50%</th>\n",
       "      <td>98.300000</td>\n",
       "      <td>74.000000</td>\n",
       "    </tr>\n",
       "    <tr>\n",
       "      <th>75%</th>\n",
       "      <td>98.700000</td>\n",
       "      <td>79.000000</td>\n",
       "    </tr>\n",
       "    <tr>\n",
       "      <th>max</th>\n",
       "      <td>100.800000</td>\n",
       "      <td>89.000000</td>\n",
       "    </tr>\n",
       "  </tbody>\n",
       "</table>\n",
       "</div>"
      ],
      "text/plain": [
       "       temperature  heart_rate\n",
       "count   130.000000  130.000000\n",
       "mean     98.249231   73.761538\n",
       "std       0.733183    7.062077\n",
       "min      96.300000   57.000000\n",
       "25%      97.800000   69.000000\n",
       "50%      98.300000   74.000000\n",
       "75%      98.700000   79.000000\n",
       "max     100.800000   89.000000"
      ]
     },
     "execution_count": 3,
     "metadata": {},
     "output_type": "execute_result"
    }
   ],
   "source": [
    "df.describe()"
   ]
  },
  {
   "cell_type": "code",
   "execution_count": 4,
   "metadata": {
    "collapsed": false
   },
   "outputs": [
    {
     "name": "stdout",
     "output_type": "stream",
     "text": [
      "Size:  130\n",
      "Avg Temp :  98.2492307692\n",
      "Standard Deviation:  0.7303577789050377\n",
      "Standard Error of the Mean:  0.06405661469519336\n"
     ]
    }
   ],
   "source": [
    "print ('Size: ',  len(df))\n",
    "print ('Avg Temp : ', np.average(df.temperature))\n",
    "print ('Standard Deviation: ', np.std(df.temperature))\n",
    "print ('Standard Error of the Mean: ', np.std(df.temperature) / (len(df)**.5))"
   ]
  },
  {
   "cell_type": "markdown",
   "metadata": {},
   "source": [
    "## 1. Check for normal distribution"
   ]
  },
  {
   "cell_type": "markdown",
   "metadata": {},
   "source": [
    "#### Lets first look at PDF on temperature data"
   ]
  },
  {
   "cell_type": "code",
   "execution_count": 5,
   "metadata": {
    "collapsed": false
   },
   "outputs": [
    {
     "data": {
      "image/png": "[encoded data removed]",
      "text/plain": [
       "<matplotlib.figure.Figure at 0x10e49e400>"
      ]
     },
     "metadata": {},
     "output_type": "display_data"
    }
   ],
   "source": [
    "sigma = np.std(df.temperature)\n",
    "mean = np.average(df.temperature)\n",
    "temps = sorted(df.temperature)\n",
    "fit = stats.norm.pdf(temps, mean, sigma)\n",
    "plt.plot(temps, fit,color='black',)\n",
    "plt.hist(temps, 20, normed=True, facecolor='green', alpha=0.7)\n",
    "plt.xlabel('Temp dist', fontsize=18)\n",
    "plt.ylabel('PDF', fontsize=18)\n",
    "plt.show()"
   ]
  },
  {
   "cell_type": "markdown",
   "metadata": {},
   "source": [
    "NOW, Lets test for a normal distribution based on D’Agostino and Pearson’s test that combines skew and kurtosis to produce an omnibus test of normality."
   ]
  },
  {
   "cell_type": "code",
   "execution_count": 6,
   "metadata": {
    "collapsed": false
   },
   "outputs": [
    {
     "name": "stdout",
     "output_type": "stream",
     "text": [
      "Temperature Distribution is normal\n"
     ]
    }
   ],
   "source": [
    "# k = z-score returned by skewtest and k is the z-score returned by kurtosistest.p= p-value\n",
    "# we use p value to test if the variable is normal or not\n",
    "\n",
    "k,p=stats.mstats.normaltest(df['temperature']) \n",
    "\n",
    "if p<0.05:\n",
    "  print ('Temperature Distribution is not normal')\n",
    "else:\n",
    "  print ('Temperature Distribution is normal')"
   ]
  },
  {
   "cell_type": "markdown",
   "metadata": {},
   "source": [
    "Another test is the Kolmogorov-Smirnov test can be applied for testing normalization"
   ]
  },
  {
   "cell_type": "code",
   "execution_count": 7,
   "metadata": {
    "collapsed": false
   },
   "outputs": [
    {
     "name": "stdout",
     "output_type": "stream",
     "text": [
      "KstestResult(statistic=1.0, pvalue=0.0)\n",
      "Temperature Distribution is again normal\n"
     ]
    }
   ],
   "source": [
    "ks_results = scipy.stats.kstest(temps, cdf='norm')\n",
    "print(ks_results)\n",
    "if p<0.05:\n",
    "  print ('Temperature Distribution is not normal')\n",
    "else:\n",
    "  print ('Temperature Distribution is again normal')"
   ]
  },
  {
   "cell_type": "markdown",
   "metadata": {},
   "source": [
    "## 2. Is the sample size large? Are the observations independent?\n",
    "A condition for Central Limit Theorem is that the sample size is large and observations are independent. \n",
    "\n",
    "CLT says that with a large sample size, sample mean will start to look like population mean. Sampling distribution of mean will be Gaussian distribution (http://bugra.github.io/work/notes/2014-06-26/law-of-large-numbers-central-limit-theorem/)"
   ]
  },
  {
   "cell_type": "code",
   "execution_count": null,
   "metadata": {
    "collapsed": true
   },
   "outputs": [],
   "source": []
  },
  {
   "cell_type": "code",
   "execution_count": null,
   "metadata": {
    "collapsed": true
   },
   "outputs": [],
   "source": []
  },
  {
   "cell_type": "code",
   "execution_count": null,
   "metadata": {
    "collapsed": true
   },
   "outputs": [],
   "source": []
  },
  {
   "cell_type": "code",
   "execution_count": null,
   "metadata": {
    "collapsed": false
   },
   "outputs": [],
   "source": []
  },
  {
   "cell_type": "markdown",
   "metadata": {},
   "source": [
    "## 3. Is the true population mean really 98.6 degrees F?"
   ]
  },
  {
   "cell_type": "markdown",
   "metadata": {},
   "source": [
    "Null Hypothesis: The true temperature mean is 98.6 F\n",
    "\n",
    "Alternative Hypothesis: The true population mean is is different than 98.6 F\n",
    "\n",
    "Since our population is large >30, Z-statistics is more suitable. T-statistics is best applied when the sample size is low. However, when T-test is used in large samples, it becomes very similar to the Z-test.\n",
    "\n",
    "This situation requires One-sample T-test since two-sample T-test Investigates whether the means of two independent data samples differ from one another.\n",
    "\n",
    "### One-Sample T-Test\n",
    "A one-sample t-test checks whether a sample mean differs from the population mean."
   ]
  },
  {
   "cell_type": "code",
   "execution_count": 8,
   "metadata": {
    "collapsed": false
   },
   "outputs": [
    {
     "name": "stdout",
     "output_type": "stream",
     "text": [
      "t-statistic =  0.000 p-value = 1.0000\n"
     ]
    }
   ],
   "source": [
    "print ('t-statistic = %6.3f p-value = %6.4f' % stats.ttest_1samp(df['temperature'], np.average(df['temperature'])))   # All data mean"
   ]
  },
  {
   "cell_type": "markdown",
   "metadata": {},
   "source": [
    "p-value being 1.0 indicates that it is most likely that these results would be observed under the null hypothesis. We should not reject the Null Hypothesis. The actual population mean is 98.6 F"
   ]
  },
  {
   "cell_type": "code",
   "execution_count": 9,
   "metadata": {
    "collapsed": false
   },
   "outputs": [
    {
     "name": "stdout",
     "output_type": "stream",
     "text": [
      "5.47592520208\n"
     ]
    }
   ],
   "source": [
    "z = (98.6-mean)/(np.std(df.temperature) / (len(df)**.5))\n",
    "print(z)"
   ]
  },
  {
   "cell_type": "code",
   "execution_count": 10,
   "metadata": {
    "collapsed": false
   },
   "outputs": [
    {
     "name": "stdout",
     "output_type": "stream",
     "text": [
      "4.35231517493e-08\n"
     ]
    }
   ],
   "source": [
    "p = (1 - stats.norm.cdf(z)) * 2\n",
    "print(p)"
   ]
  },
  {
   "cell_type": "markdown",
   "metadata": {},
   "source": [
    "If I calculate p-value from z-score, I get a very low value. This is contrary to One-sample T-test I have done before. The actual population mean is NOT 98.6 F."
   ]
  },
  {
   "cell_type": "markdown",
   "metadata": {},
   "source": [
    "## 4. At what temperature should we consider someone's temperature to be \"abnormal\"?"
   ]
  },
  {
   "cell_type": "markdown",
   "metadata": {},
   "source": [
    "abnormal or anomaly is when the temperature is not within 95% of the population."
   ]
  },
  {
   "cell_type": "code",
   "execution_count": 11,
   "metadata": {
    "collapsed": false
   },
   "outputs": [
    {
     "name": "stdout",
     "output_type": "stream",
     "text": [
      "the abnormal temperature is outside of this interval :  (96.817755826748211, 99.680705711713287)\n"
     ]
    }
   ],
   "source": [
    "R = stats.norm.interval(0.95, loc=mean, scale=sigma)\n",
    "print ('the abnormal temperature is outside of this interval : ', R)"
   ]
  },
  {
   "cell_type": "markdown",
   "metadata": {},
   "source": [
    "## 5. Is there a significant difference between males and females in normal temperature?"
   ]
  },
  {
   "cell_type": "code",
   "execution_count": 12,
   "metadata": {
    "collapsed": true
   },
   "outputs": [],
   "source": [
    "male = df[df['gender'] == 'M']\n",
    "female = df[df['gender'] == 'F']"
   ]
  },
  {
   "cell_type": "code",
   "execution_count": 13,
   "metadata": {
    "collapsed": false
   },
   "outputs": [
    {
     "name": "stdout",
     "output_type": "stream",
     "text": [
      "Male Sample Size:  65\n",
      "Male Avg Temp :  98.1046153846\n",
      "Male Temp Standard Deviation:  0.6933598841828696\n"
     ]
    }
   ],
   "source": [
    "print ('Male Sample Size: ',  len(male))\n",
    "print ('Male Avg Temp : ', np.average(male.temperature))\n",
    "print ('Male Temp Standard Deviation: ', np.std(male.temperature))"
   ]
  },
  {
   "cell_type": "code",
   "execution_count": 14,
   "metadata": {
    "collapsed": false
   },
   "outputs": [
    {
     "name": "stdout",
     "output_type": "stream",
     "text": [
      "Female Sample Size:  65\n",
      "Female Avg Temp :  98.3938461538\n",
      "Female Temp Standard Deviation:  0.7377464486428966\n"
     ]
    }
   ],
   "source": [
    "print ('Female Sample Size: ',  len(male))\n",
    "print ('Female Avg Temp : ', np.average(female.temperature))\n",
    "print ('Female Temp Standard Deviation: ', np.std(female.temperature))"
   ]
  },
  {
   "cell_type": "code",
   "execution_count": 15,
   "metadata": {
    "collapsed": true
   },
   "outputs": [],
   "source": [
    "mtemps = sorted(male.temperature)\n",
    "ftemps = sorted(female.temperature)"
   ]
  },
  {
   "cell_type": "code",
   "execution_count": 16,
   "metadata": {
    "collapsed": false
   },
   "outputs": [
    {
     "data": {
      "image/png": "[encoded data removed]",
      "text/plain": [
       "<matplotlib.figure.Figure at 0x110b76ba8>"
      ]
     },
     "metadata": {},
     "output_type": "display_data"
    }
   ],
   "source": [
    "sigmaMale = np.std(male.temperature)\n",
    "meanMale = np.average(male.temperature)\n",
    "sigmaFemale = np.std(female.temperature)\n",
    "meanFemale = np.average(female.temperature)\n",
    "fit1 = stats.norm.pdf(mtemps, meanMale, sigmaMale)\n",
    "fit2 = stats.norm.pdf(ftemps, meanFemale, sigmaFemale)\n",
    "plt.plot(mtemps, fit1,color='black')\n",
    "plt.hist(mtemps, 20, normed=True, facecolor='green', alpha=0.9, edgecolor = \"black\")\n",
    "\n",
    "plt.plot(ftemps, fit2,color='black')\n",
    "plt.hist(ftemps, 20, normed=True, facecolor='red', alpha=0.5, edgecolor = \"black\")\n",
    "\n",
    "plt.xlabel('Temp dist', fontsize=18)\n",
    "plt.ylabel('PDF', fontsize=18)\n",
    "\n",
    "plt.show()"
   ]
  },
  {
   "cell_type": "markdown",
   "metadata": {},
   "source": [
    "The above graph is not a good way to distinguish 2 populations. \n",
    "\n",
    "We should perform two sampled T-test for independent samples because "
   ]
  },
  {
   "cell_type": "code",
   "execution_count": 17,
   "metadata": {
    "collapsed": false
   },
   "outputs": [
    {
     "name": "stdout",
     "output_type": "stream",
     "text": [
      "t-statistic = -2.285 p-value = 0.0239\n"
     ]
    }
   ],
   "source": [
    "print ('t-statistic = %6.3f p-value = %6.4f' % stats.ttest_ind(male['temperature'], female['temperature'], axis=0))"
   ]
  },
  {
   "cell_type": "markdown",
   "metadata": {},
   "source": [
    "Since p is less than .05, the null hypothesis is rejected. There is indeed a difference in the body temperature population means for men and women."
   ]
  },
  {
   "cell_type": "markdown",
   "metadata": {
    "collapsed": true
   },
   "source": [
    "## Conclusion"
   ]
  },
  {
   "cell_type": "markdown",
   "metadata": {},
   "source": [
    "We ended up with the following conclusions:\n",
    "- The distribution of body temperatures are normal.\n",
    "- The sample size is large enough to satisfy CLT.\n",
    "- I found 2 results for the population mean using two different methods. When I used the 1-sample t-test from scipy library, p-value is 1. When I used analytical equations, p was found to be less than 0.05. \n",
    "- The abnormal temperature values outside of 95% CI was found.\n",
    "- There a significant difference between males and females in normal temperature using 2-sample T-test."
   ]
  },
  {
   "cell_type": "code",
   "execution_count": null,
   "metadata": {
    "collapsed": true
   },
   "outputs": [],
   "source": []
  }
 ],
 "metadata": {
  "kernelspec": {
   "display_name": "Python 3",
   "language": "python",
   "name": "python3"
  },
  "language_info": {
   "codemirror_mode": {
    "name": "ipython",
    "version": 3
   },
   "file_extension": ".py",
   "mimetype": "text/x-python",
   "name": "python",
   "nbconvert_exporter": "python",
   "pygments_lexer": "ipython3",
   "version": "3.6.0"
  }
 },
 "nbformat": 4,
 "nbformat_minor": 0
}
